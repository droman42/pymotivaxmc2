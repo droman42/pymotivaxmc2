{
 "cells": [
  {
   "cell_type": "markdown",
   "metadata": {},
   "source": [
    "# pymotivaxmc2 Demo Notebook\n",
    "\n",
    "This notebook demonstrates how to use the pymotiva library to control Emotiva A/V receivers.\n",
    "\n",
    "## Setup\n",
    "\n",
    "First, let's import the necessary modules and set up logging."
   ]
  },
  {
   "cell_type": "code",
   "execution_count": 2,
   "metadata": {},
   "outputs": [],
   "source": [
    "import logging\n",
    "import sys\n",
    "from pymotivaxmc2 import Emotiva, EmotivaConfig\n",
    "from pymotivaxmc2.exceptions import (\n",
    "    InvalidTransponderResponseError,\n",
    "    InvalidSourceError,\n",
    "    InvalidModeError\n",
    ")\n",
    "\n",
    "# Configure logging\n",
    "logging.basicConfig(\n",
    "    level=logging.INFO,\n",
    "    format='%(asctime)s - %(name)s - %(levelname)s - %(message)s'\n",
    ")\n",
    "logger = logging.getLogger(__name__)"
   ]
  },
  {
   "cell_type": "markdown",
   "metadata": {},
   "source": [
    "## Device Discovery\n",
    "\n",
    "Let's try to discover an Emotiva device. Replace the IP address with your device's IP."
   ]
  },
  {
   "cell_type": "code",
   "execution_count": null,
   "metadata": {},
   "outputs": [],
   "source": [
    "# Create configuration\n",
    "config = EmotivaConfig(\n",
    "    ip=\"192.168.110.177\",  # Replace with your device's IP\n",
    "    timeout=2,\n",
    "    max_retries=3\n",
    ")\n",
    "\n",
    "# Initialize the controller\n",
    "emotiva = Emotiva(config)\n",
    "\n",
    "try:\n",
    "    # Discover the device\n",
    "    port = emotiva.discover()\n",
    "    print(f\"Device discovered on port {port}\")\n",
    "except InvalidTransponderResponseError as e:\n",
    "    print(f\"Discovery failed: {e}\")"
   ]
  },
  {
   "cell_type": "markdown",
   "metadata": {},
   "source": [
    "## Notification Handling\n",
    "\n",
    "Let's set up a callback to handle device notifications."
   ]
  },
  {
   "cell_type": "code",
   "execution_count": null,
   "metadata": {},
   "outputs": [],
   "source": [
    "def handle_notification(data):\n",
    "    \"\"\"Handle device notifications.\"\"\"\n",
    "    print(f\"Received notification: {data}\")\n",
    "\n",
    "# Set up the callback\n",
    "emotiva.set_callback(handle_notification)\n",
    "print(\"Notification callback set up\")"
   ]
  },
  {
   "cell_type": "markdown",
   "metadata": {},
   "source": [
    "## Power Control\n",
    "\n",
    "Let's try to control the device's power state."
   ]
  },
  {
   "cell_type": "code",
   "execution_count": null,
   "metadata": {},
   "outputs": [],
   "source": [
    "try:\n",
    "    # Turn the device on\n",
    "    response = emotiva.send_command(\"power\", {\"value\": \"on\"})\n",
    "    print(f\"Power command response: {response}\")\n",
    "    \n",
    "    # Wait a bit\n",
    "    import time\n",
    "    time.sleep(2)\n",
    "    \n",
    "    # Turn the device off\n",
    "    response = emotiva.send_command(\"power\", {\"value\": \"off\"})\n",
    "    print(f\"Power command response: {response}\")\n",
    "except InvalidTransponderResponseError as e:\n",
    "    print(f\"Power command failed: {e}\")"
   ]
  },
  {
   "cell_type": "markdown",
   "metadata": {},
   "source": [
    "## Volume Control\n",
    "\n",
    "Let's try to control the device's volume."
   ]
  },
  {
   "cell_type": "code",
   "execution_count": null,
   "metadata": {},
   "outputs": [],
   "source": [
    "try:\n",
    "    # Set volume to 50%\n",
    "    response = emotiva.send_command(\"volume\", {\"value\": 50})\n",
    "    print(f\"Volume command response: {response}\")\n",
    "    \n",
    "    # Wait a bit\n",
    "    time.sleep(1)\n",
    "    \n",
    "    # Set volume to 30%\n",
    "    response = emotiva.send_command(\"volume\", {\"value\": 30})\n",
    "    print(f\"Volume command response: {response}\")\n",
    "except InvalidTransponderResponseError as e:\n",
    "    print(f\"Volume command failed: {e}\")"
   ]
  },
  {
   "cell_type": "markdown",
   "metadata": {},
   "source": [
    "## Input Selection\n",
    "\n",
    "Let's try to change the input source."
   ]
  },
  {
   "cell_type": "code",
   "execution_count": null,
   "metadata": {},
   "outputs": [],
   "source": [
    "try:\n",
    "    # Switch to HDMI 1\n",
    "    response = emotiva.send_command(\"source\", {\"value\": \"hdmi1\"})\n",
    "    print(f\"Source command response: {response}\")\n",
    "except InvalidTransponderResponseError as e:\n",
    "    print(f\"Source command failed: {e}\")\n",
    "except InvalidSourceError as e:\n",
    "    print(f\"Invalid source specified: {e}\")"
   ]
  },
  {
   "cell_type": "markdown",
   "metadata": {},
   "source": [
    "## Error Handling\n",
    "\n",
    "Let's demonstrate error handling with invalid commands."
   ]
  },
  {
   "cell_type": "code",
   "execution_count": null,
   "metadata": {},
   "outputs": [],
   "source": [
    "try:\n",
    "    # Try an invalid command\n",
    "    response = emotiva.send_command(\"invalid_command\", {\"value\": \"test\"})\n",
    "except InvalidTransponderResponseError as e:\n",
    "    print(f\"Expected error: {e}\")\n",
    "    \n",
    "try:\n",
    "    # Try an invalid source\n",
    "    response = emotiva.send_command(\"source\", {\"value\": \"invalid_source\"})\n",
    "except InvalidSourceError as e:\n",
    "    print(f\"Expected error: {e}\")"
   ]
  },
  {
   "cell_type": "markdown",
   "metadata": {},
   "source": [
    "## Cleanup\n",
    "\n",
    "When you're done, the Emotiva object will automatically clean up its resources when it's garbage collected. However, you can also explicitly stop the notification thread if needed."
   ]
  },
  {
   "cell_type": "code",
   "execution_count": null,
   "metadata": {},
   "outputs": [],
   "source": [
    "# The SocketManager will be automatically cleaned up when the Emotiva object is destroyed\n",
    "del emotiva"
   ]
  }
 ],
 "metadata": {
  "kernelspec": {
   "display_name": "Python 3",
   "language": "python",
   "name": "python3"
  },
  "language_info": {
   "codemirror_mode": {
    "name": "ipython",
    "version": 3
   },
   "file_extension": ".py",
   "mimetype": "text/x-python",
   "name": "python",
   "nbconvert_exporter": "python",
   "pygments_lexer": "ipython3",
   "version": "3.13.2"
  }
 },
 "nbformat": 4,
 "nbformat_minor": 4
}
